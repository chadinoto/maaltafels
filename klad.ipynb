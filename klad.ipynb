{
 "cells": [
  {
   "cell_type": "markdown",
   "id": "acd790bc",
   "metadata": {},
   "source": [
    "Load packages"
   ]
  },
  {
   "cell_type": "code",
   "execution_count": null,
   "id": "bf9faead",
   "metadata": {},
   "outputs": [],
   "source": [
    "%load_ext autoreload\n",
    "%autoreload 2\n",
    "\n",
    "import pandas as pd\n",
    "from functions import *"
   ]
  },
  {
   "cell_type": "markdown",
   "id": "e82f2744",
   "metadata": {},
   "source": [
    "Read data"
   ]
  },
  {
   "cell_type": "code",
   "execution_count": 17,
   "id": "6b402c1a",
   "metadata": {},
   "outputs": [
    {
     "data": {
      "application/vnd.microsoft.datawrangler.viewer.v0+json": {
       "columns": [
        {
         "name": "index",
         "rawType": "int64",
         "type": "integer"
        },
        {
         "name": "ID",
         "rawType": "int64",
         "type": "integer"
        },
        {
         "name": "USER_ID",
         "rawType": "object",
         "type": "unknown"
        },
        {
         "name": "NAME",
         "rawType": "object",
         "type": "string"
        },
        {
         "name": "DATETIME_START",
         "rawType": "object",
         "type": "string"
        },
        {
         "name": "DATE_START",
         "rawType": "object",
         "type": "string"
        },
        {
         "name": "TIME_START",
         "rawType": "object",
         "type": "string"
        },
        {
         "name": "EXERCISE_IDX",
         "rawType": "int64",
         "type": "integer"
        },
        {
         "name": "TAFEL",
         "rawType": "int64",
         "type": "integer"
        },
        {
         "name": "RAND_NUM",
         "rawType": "int64",
         "type": "integer"
        },
        {
         "name": "USER_ANSWER",
         "rawType": "object",
         "type": "string"
        },
        {
         "name": "SCORE",
         "rawType": "float64",
         "type": "float"
        },
        {
         "name": "DURATION_TIME",
         "rawType": "float64",
         "type": "float"
        },
        {
         "name": "MODEL_SCORE",
         "rawType": "float64",
         "type": "float"
        },
        {
         "name": "PROBABILITY",
         "rawType": "float64",
         "type": "float"
        },
        {
         "name": "CREATED_AT",
         "rawType": "object",
         "type": "string"
        }
       ],
       "ref": "4b670490-b876-4170-a714-6b517959ece7",
       "rows": [
        [
         "0",
         "256",
         null,
         "Mama",
         "2025-10-20T12:04:22+00:00",
         "2025-10-20",
         "12:04:22",
         "1",
         "2",
         "3",
         "6",
         "1.0",
         "1.933",
         "0.5173305742369374",
         "0.0",
         "2025-10-20T10:04:24.524953+00:00"
        ],
        [
         "1",
         "255",
         null,
         "Mama",
         "2025-10-20T12:02:07+00:00",
         "2025-10-20",
         "12:02:07",
         "1",
         "2",
         "9",
         "18",
         "1.0",
         "1.992",
         "0.5020080321285141",
         "0.0",
         "2025-10-20T10:02:14.137267+00:00"
        ],
        [
         "2",
         "147",
         null,
         "Mama",
         "2025-10-19T21:10:12+00:00",
         "2025-10-19",
         "21:10:12",
         "2",
         "9",
         "9",
         "81",
         "1.0",
         "2.284",
         "0.437828371",
         "0.001773372",
         "2025-10-19T20:39:51.896924+00:00"
        ],
        [
         "3",
         "129",
         null,
         "Mama",
         "2025-10-19T21:10:12+00:00",
         "2025-10-19",
         "21:10:12",
         "1",
         "7",
         "7",
         "49",
         "1.0",
         "2.876",
         "0.347705146",
         "0.00223302",
         "2025-10-19T20:39:51.896924+00:00"
        ],
        [
         "4",
         "154",
         null,
         "Mama",
         "2025-10-19T21:04:56+00:00",
         "2025-10-19",
         "21:04:55",
         "2",
         "5",
         "6",
         "30",
         "1.0",
         "2.07",
         "0.483091787",
         "0.001607215",
         "2025-10-19T20:39:51.896924+00:00"
        ]
       ],
       "shape": {
        "columns": 15,
        "rows": 5
       }
      },
      "text/html": [
       "<div>\n",
       "<style scoped>\n",
       "    .dataframe tbody tr th:only-of-type {\n",
       "        vertical-align: middle;\n",
       "    }\n",
       "\n",
       "    .dataframe tbody tr th {\n",
       "        vertical-align: top;\n",
       "    }\n",
       "\n",
       "    .dataframe thead th {\n",
       "        text-align: right;\n",
       "    }\n",
       "</style>\n",
       "<table border=\"1\" class=\"dataframe\">\n",
       "  <thead>\n",
       "    <tr style=\"text-align: right;\">\n",
       "      <th></th>\n",
       "      <th>ID</th>\n",
       "      <th>USER_ID</th>\n",
       "      <th>NAME</th>\n",
       "      <th>DATETIME_START</th>\n",
       "      <th>DATE_START</th>\n",
       "      <th>TIME_START</th>\n",
       "      <th>EXERCISE_IDX</th>\n",
       "      <th>TAFEL</th>\n",
       "      <th>RAND_NUM</th>\n",
       "      <th>USER_ANSWER</th>\n",
       "      <th>SCORE</th>\n",
       "      <th>DURATION_TIME</th>\n",
       "      <th>MODEL_SCORE</th>\n",
       "      <th>PROBABILITY</th>\n",
       "      <th>CREATED_AT</th>\n",
       "    </tr>\n",
       "  </thead>\n",
       "  <tbody>\n",
       "    <tr>\n",
       "      <th>0</th>\n",
       "      <td>256</td>\n",
       "      <td>None</td>\n",
       "      <td>Mama</td>\n",
       "      <td>2025-10-20T12:04:22+00:00</td>\n",
       "      <td>2025-10-20</td>\n",
       "      <td>12:04:22</td>\n",
       "      <td>1</td>\n",
       "      <td>2</td>\n",
       "      <td>3</td>\n",
       "      <td>6</td>\n",
       "      <td>1.0</td>\n",
       "      <td>1.933</td>\n",
       "      <td>0.517331</td>\n",
       "      <td>0.000000</td>\n",
       "      <td>2025-10-20T10:04:24.524953+00:00</td>\n",
       "    </tr>\n",
       "    <tr>\n",
       "      <th>1</th>\n",
       "      <td>255</td>\n",
       "      <td>None</td>\n",
       "      <td>Mama</td>\n",
       "      <td>2025-10-20T12:02:07+00:00</td>\n",
       "      <td>2025-10-20</td>\n",
       "      <td>12:02:07</td>\n",
       "      <td>1</td>\n",
       "      <td>2</td>\n",
       "      <td>9</td>\n",
       "      <td>18</td>\n",
       "      <td>1.0</td>\n",
       "      <td>1.992</td>\n",
       "      <td>0.502008</td>\n",
       "      <td>0.000000</td>\n",
       "      <td>2025-10-20T10:02:14.137267+00:00</td>\n",
       "    </tr>\n",
       "    <tr>\n",
       "      <th>2</th>\n",
       "      <td>147</td>\n",
       "      <td>None</td>\n",
       "      <td>Mama</td>\n",
       "      <td>2025-10-19T21:10:12+00:00</td>\n",
       "      <td>2025-10-19</td>\n",
       "      <td>21:10:12</td>\n",
       "      <td>2</td>\n",
       "      <td>9</td>\n",
       "      <td>9</td>\n",
       "      <td>81</td>\n",
       "      <td>1.0</td>\n",
       "      <td>2.284</td>\n",
       "      <td>0.437828</td>\n",
       "      <td>0.001773</td>\n",
       "      <td>2025-10-19T20:39:51.896924+00:00</td>\n",
       "    </tr>\n",
       "    <tr>\n",
       "      <th>3</th>\n",
       "      <td>129</td>\n",
       "      <td>None</td>\n",
       "      <td>Mama</td>\n",
       "      <td>2025-10-19T21:10:12+00:00</td>\n",
       "      <td>2025-10-19</td>\n",
       "      <td>21:10:12</td>\n",
       "      <td>1</td>\n",
       "      <td>7</td>\n",
       "      <td>7</td>\n",
       "      <td>49</td>\n",
       "      <td>1.0</td>\n",
       "      <td>2.876</td>\n",
       "      <td>0.347705</td>\n",
       "      <td>0.002233</td>\n",
       "      <td>2025-10-19T20:39:51.896924+00:00</td>\n",
       "    </tr>\n",
       "    <tr>\n",
       "      <th>4</th>\n",
       "      <td>154</td>\n",
       "      <td>None</td>\n",
       "      <td>Mama</td>\n",
       "      <td>2025-10-19T21:04:56+00:00</td>\n",
       "      <td>2025-10-19</td>\n",
       "      <td>21:04:55</td>\n",
       "      <td>2</td>\n",
       "      <td>5</td>\n",
       "      <td>6</td>\n",
       "      <td>30</td>\n",
       "      <td>1.0</td>\n",
       "      <td>2.070</td>\n",
       "      <td>0.483092</td>\n",
       "      <td>0.001607</td>\n",
       "      <td>2025-10-19T20:39:51.896924+00:00</td>\n",
       "    </tr>\n",
       "  </tbody>\n",
       "</table>\n",
       "</div>"
      ],
      "text/plain": [
       "    ID USER_ID  NAME             DATETIME_START  DATE_START TIME_START  \\\n",
       "0  256    None  Mama  2025-10-20T12:04:22+00:00  2025-10-20   12:04:22   \n",
       "1  255    None  Mama  2025-10-20T12:02:07+00:00  2025-10-20   12:02:07   \n",
       "2  147    None  Mama  2025-10-19T21:10:12+00:00  2025-10-19   21:10:12   \n",
       "3  129    None  Mama  2025-10-19T21:10:12+00:00  2025-10-19   21:10:12   \n",
       "4  154    None  Mama  2025-10-19T21:04:56+00:00  2025-10-19   21:04:55   \n",
       "\n",
       "   EXERCISE_IDX  TAFEL  RAND_NUM USER_ANSWER  SCORE  DURATION_TIME  \\\n",
       "0             1      2         3           6    1.0          1.933   \n",
       "1             1      2         9          18    1.0          1.992   \n",
       "2             2      9         9          81    1.0          2.284   \n",
       "3             1      7         7          49    1.0          2.876   \n",
       "4             2      5         6          30    1.0          2.070   \n",
       "\n",
       "   MODEL_SCORE  PROBABILITY                        CREATED_AT  \n",
       "0     0.517331     0.000000  2025-10-20T10:04:24.524953+00:00  \n",
       "1     0.502008     0.000000  2025-10-20T10:02:14.137267+00:00  \n",
       "2     0.437828     0.001773  2025-10-19T20:39:51.896924+00:00  \n",
       "3     0.347705     0.002233  2025-10-19T20:39:51.896924+00:00  \n",
       "4     0.483092     0.001607  2025-10-19T20:39:51.896924+00:00  "
      ]
     },
     "execution_count": 17,
     "metadata": {},
     "output_type": "execute_result"
    }
   ],
   "source": [
    "df = read_score_df()\n",
    "df.head()"
   ]
  },
  {
   "cell_type": "code",
   "execution_count": null,
   "id": "b6bfdb48",
   "metadata": {},
   "outputs": [],
   "source": [
    "df.columns = [col.lower() for col in df.columns]\n",
    "df = df.copy()\n",
    "df[\"date_start\"] = pd.to_datetime(df[\"date_start\"], errors=\"coerce\").dt.strftime(\"%Y-%m-%d\")\n",
    "df[\"date_start\"].head()"
   ]
  },
  {
   "cell_type": "code",
   "execution_count": null,
   "id": "3eeb57a2",
   "metadata": {},
   "outputs": [],
   "source": [
    "df[\"time_start\"] = pd.to_datetime(df[\"time_start\"].astype(str), errors=\"coerce\").dt.strftime(\"%H:%M:%S\")\n",
    "df[\"time_start\"].head()"
   ]
  },
  {
   "cell_type": "markdown",
   "id": "ef7226c3",
   "metadata": {},
   "source": [
    "Manipulate data\n"
   ]
  },
  {
   "cell_type": "code",
   "execution_count": 22,
   "id": "ae9282ff",
   "metadata": {},
   "outputs": [
    {
     "data": {
      "application/vnd.microsoft.datawrangler.viewer.v0+json": {
       "columns": [
        {
         "name": "index",
         "rawType": "int64",
         "type": "integer"
        },
        {
         "name": "SCORE",
         "rawType": "float64",
         "type": "float"
        }
       ],
       "ref": "729c4456-0f02-4d89-8f27-501be0aa4c37",
       "rows": [
        [
         "0",
         "1.0"
        ],
        [
         "1",
         "1.0"
        ],
        [
         "2",
         "1.0"
        ],
        [
         "3",
         "1.0"
        ],
        [
         "4",
         "1.0"
        ],
        [
         "5",
         "1.0"
        ],
        [
         "6",
         "1.0"
        ],
        [
         "7",
         "1.0"
        ],
        [
         "8",
         "0.0"
        ],
        [
         "9",
         "1.0"
        ],
        [
         "10",
         "0.0"
        ],
        [
         "11",
         "1.0"
        ],
        [
         "12",
         "1.0"
        ],
        [
         "13",
         "1.0"
        ],
        [
         "14",
         "0.0"
        ],
        [
         "15",
         "1.0"
        ],
        [
         "16",
         "1.0"
        ],
        [
         "17",
         "1.0"
        ],
        [
         "18",
         "0.0"
        ],
        [
         "19",
         "1.0"
        ],
        [
         "20",
         "1.0"
        ],
        [
         "21",
         "1.0"
        ],
        [
         "22",
         "1.0"
        ],
        [
         "23",
         "1.0"
        ],
        [
         "24",
         "1.0"
        ],
        [
         "25",
         "1.0"
        ],
        [
         "26",
         "1.0"
        ],
        [
         "27",
         "1.0"
        ],
        [
         "28",
         "1.0"
        ],
        [
         "29",
         "1.0"
        ],
        [
         "30",
         "1.0"
        ],
        [
         "31",
         "1.0"
        ],
        [
         "32",
         "1.0"
        ],
        [
         "33",
         "1.0"
        ],
        [
         "34",
         "1.0"
        ],
        [
         "35",
         "1.0"
        ],
        [
         "36",
         "1.0"
        ],
        [
         "37",
         "1.0"
        ],
        [
         "38",
         "1.0"
        ],
        [
         "39",
         "1.0"
        ],
        [
         "40",
         "1.0"
        ],
        [
         "41",
         "1.0"
        ],
        [
         "42",
         "1.0"
        ],
        [
         "43",
         "1.0"
        ],
        [
         "44",
         "1.0"
        ],
        [
         "45",
         "1.0"
        ],
        [
         "46",
         "1.0"
        ],
        [
         "47",
         "1.0"
        ],
        [
         "48",
         "1.0"
        ],
        [
         "49",
         "1.0"
        ]
       ],
       "shape": {
        "columns": 1,
        "rows": 254
       }
      },
      "text/plain": [
       "0      1.0\n",
       "1      1.0\n",
       "2      1.0\n",
       "3      1.0\n",
       "4      1.0\n",
       "      ... \n",
       "249    1.0\n",
       "250    1.0\n",
       "251    1.0\n",
       "252    0.0\n",
       "253    0.0\n",
       "Name: SCORE, Length: 254, dtype: float64"
      ]
     },
     "execution_count": 22,
     "metadata": {},
     "output_type": "execute_result"
    }
   ],
   "source": [
    "# transform SCORE column to 0 if score is 0.1\n",
    "df[\"SCORE\"] = df[\"SCORE\"].apply(lambda x: 0 if x == 0.1 else x)\n",
    "df[\"SCORE\"]"
   ]
  },
  {
   "cell_type": "code",
   "execution_count": 36,
   "id": "c62419a9",
   "metadata": {
    "vscode": {
     "languageId": "javascript"
    }
   },
   "outputs": [
    {
     "data": {
      "application/vnd.microsoft.datawrangler.viewer.v0+json": {
       "columns": [
        {
         "name": "WEEK",
         "rawType": "UInt32",
         "type": "integer"
        },
        {
         "name": "Monday",
         "rawType": "object",
         "type": "unknown"
        },
        {
         "name": "Sunday",
         "rawType": "object",
         "type": "unknown"
        }
       ],
       "ref": "5f8fb71c-320c-4e37-ac68-3c367cb0145c",
       "rows": [
        [
         "42",
         null,
         "2025-10-19\n[Timer: 15 min, score: 97%]"
        ],
        [
         "43",
         "2025-10-20\n[Timer: 1 min, score: 100%]",
         null
        ]
       ],
       "shape": {
        "columns": 2,
        "rows": 2
       }
      },
      "text/html": [
       "<div>\n",
       "<style scoped>\n",
       "    .dataframe tbody tr th:only-of-type {\n",
       "        vertical-align: middle;\n",
       "    }\n",
       "\n",
       "    .dataframe tbody tr th {\n",
       "        vertical-align: top;\n",
       "    }\n",
       "\n",
       "    .dataframe thead th {\n",
       "        text-align: right;\n",
       "    }\n",
       "</style>\n",
       "<table border=\"1\" class=\"dataframe\">\n",
       "  <thead>\n",
       "    <tr style=\"text-align: right;\">\n",
       "      <th>WEEKDAY</th>\n",
       "      <th>Monday</th>\n",
       "      <th>Sunday</th>\n",
       "    </tr>\n",
       "    <tr>\n",
       "      <th>WEEK</th>\n",
       "      <th></th>\n",
       "      <th></th>\n",
       "    </tr>\n",
       "  </thead>\n",
       "  <tbody>\n",
       "    <tr>\n",
       "      <th>42</th>\n",
       "      <td>NaN</td>\n",
       "      <td>2025-10-19\\n[Timer: 15 min, score: 97%]</td>\n",
       "    </tr>\n",
       "    <tr>\n",
       "      <th>43</th>\n",
       "      <td>2025-10-20\\n[Timer: 1 min, score: 100%]</td>\n",
       "      <td>NaN</td>\n",
       "    </tr>\n",
       "  </tbody>\n",
       "</table>\n",
       "</div>"
      ],
      "text/plain": [
       "WEEKDAY                                   Monday  \\\n",
       "WEEK                                               \n",
       "42                                           NaN   \n",
       "43       2025-10-20\\n[Timer: 1 min, score: 100%]   \n",
       "\n",
       "WEEKDAY                                   Sunday  \n",
       "WEEK                                              \n",
       "42       2025-10-19\\n[Timer: 15 min, score: 97%]  \n",
       "43                                           NaN  "
      ]
     },
     "execution_count": 36,
     "metadata": {},
     "output_type": "execute_result"
    }
   ],
   "source": [
    "df_per_day = (\n",
    "    df.groupby([\"DATE_START\"], as_index=False)\n",
    "    .agg(SEC_PER_DAG=(\"DURATION_TIME\", \"sum\"), SCORE_PER_DAG=(\"SCORE\", \"mean\"))\n",
    "    .assign(MIN_PER_DAG=lambda x: x[\"SEC_PER_DAG\"] / 60)\n",
    "    .assign(SCORE_PER_DAG=lambda x: x[\"SCORE_PER_DAG\"].round(2) * 100)\n",
    ")\n",
    "df_per_day.head()\n",
    "df_calendar = (\n",
    "    df_per_day.assign(DATE_START=pd.to_datetime(df_per_day[\"DATE_START\"]))\n",
    "    .assign(WEEKDAY=lambda x: x[\"DATE_START\"].dt.day_name())\n",
    "    .assign(\n",
    "        TEXT=lambda x: x[\"DATE_START\"].dt.strftime(\"%Y-%m-%d\")\n",
    "        + \"\\n[Timer: \"\n",
    "        + x[\"MIN_PER_DAG\"].apply(lambda y: str(int(np.ceil(y))))\n",
    "        + \" min\" + \", score: \"+ x[\"SCORE_PER_DAG\"].apply(lambda y: str(int(y))) + \"%]\")\n",
    "    .assign(WEEK=lambda x: x[\"DATE_START\"].dt.isocalendar().week)\n",
    "    .groupby([\"WEEK\", \"WEEKDAY\"], as_index=False)\n",
    "    .agg(TEXT=(\"TEXT\", \"first\"))\n",
    "    .pivot(index=\"WEEK\", columns=\"WEEKDAY\", values=\"TEXT\")\n",
    ")\n",
    "df_calendar.head()"
   ]
  },
  {
   "cell_type": "markdown",
   "id": "d99d0557",
   "metadata": {},
   "source": [
    "Database manipulations\n"
   ]
  },
  {
   "cell_type": "code",
   "execution_count": null,
   "id": "ca9b06d2",
   "metadata": {},
   "outputs": [],
   "source": [
    "url = st.secrets[\"SUPABASE_URL\"]\n",
    "key = st.secrets[\"SUPABASE_ANON_KEY\"]\n",
    "sb = create_client(url, key)"
   ]
  },
  {
   "cell_type": "code",
   "execution_count": null,
   "id": "411f6890",
   "metadata": {},
   "outputs": [],
   "source": [
    "# take only last row from df\n",
    "last_row = df.tail(1)\n",
    "last_row\n"
   ]
  },
  {
   "cell_type": "code",
   "execution_count": 39,
   "id": "c9fab307",
   "metadata": {},
   "outputs": [
    {
     "name": "stdout",
     "output_type": "stream",
     "text": [
      "0\n"
     ]
    }
   ],
   "source": [
    "import re\n",
    "text=\"2025-10-20\\n[Timer: 0 min, score: 0%]\"\n",
    "minutes = int(re.search(r'Timer:\\s*(\\d+)\\s*min', text).group(1))\n",
    "print(minutes) "
   ]
  },
  {
   "cell_type": "code",
   "execution_count": null,
   "id": "63b3d6c9",
   "metadata": {},
   "outputs": [],
   "source": [
    "save_score_df(sb, last_row)"
   ]
  }
 ],
 "metadata": {
  "kernelspec": {
   "display_name": "venv (3.12.3)",
   "language": "python",
   "name": "python3"
  },
  "language_info": {
   "codemirror_mode": {
    "name": "ipython",
    "version": 3
   },
   "file_extension": ".py",
   "mimetype": "text/x-python",
   "name": "python",
   "nbconvert_exporter": "python",
   "pygments_lexer": "ipython3",
   "version": "3.12.3"
  }
 },
 "nbformat": 4,
 "nbformat_minor": 5
}
